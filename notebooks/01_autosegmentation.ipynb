{
 "cells": [
  {
   "attachments": {},
   "cell_type": "markdown",
   "metadata": {},
   "source": [
    "# Skull Segmentation\n",
    "\n",
    "Perform segmentation from a Nifti file of head CT scan.\n",
    "\n",
    "[![Open in Colab](https://colab.research.google.com/assets/colab-badge.svg)](https://colab.research.google.com/github/biodatlab/autoimplantpipe/blob/master/notebooks/01_autosegmentation.ipynb)"
   ]
  },
  {
   "cell_type": "code",
   "execution_count": null,
   "metadata": {},
   "outputs": [],
   "source": [
    "from autoimplantpipe import load_segmentation_model, predict_skull_segmentation"
   ]
  },
  {
   "cell_type": "code",
   "execution_count": null,
   "metadata": {},
   "outputs": [],
   "source": [
    "# Download model checkpoint and load segmentation model for prediction\n",
    "model_path = \"Unet_segmentation.pth\"  # model path\n",
    "segmentation_model = load_segmentation_model(model_path)  # load model\n",
    "segmentation_model.eval()"
   ]
  },
  {
   "cell_type": "code",
   "execution_count": null,
   "metadata": {},
   "outputs": [],
   "source": [
    "# define input path to predict and perform segmentation\n",
    "prediction_path = \"id_ct.nii\"\n",
    "segmentation_path = predict_skull_segmentation(\n",
    "    prediction_path=prediction_path,\n",
    "    segmentation_model=segmentation_model,\n",
    "    output_dir=\"out_seg\",\n",
    ")  # return output path to segmentation nifti"
   ]
  }
 ],
 "metadata": {
  "kernelspec": {
   "display_name": "Python 3",
   "language": "python",
   "name": "python3"
  },
  "language_info": {
   "codemirror_mode": {
    "name": "ipython",
    "version": 3
   },
   "file_extension": ".py",
   "mimetype": "text/x-python",
   "name": "python",
   "nbconvert_exporter": "python",
   "pygments_lexer": "ipython3",
   "version": "3.9.6"
  },
  "vscode": {
   "interpreter": {
    "hash": "31f2aee4e71d21fbe5cf8b01ff0e069b9275f58929596ceb00d14d90e3e16cd6"
   }
  }
 },
 "nbformat": 4,
 "nbformat_minor": 2
}

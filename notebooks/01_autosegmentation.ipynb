{
 "cells": [
  {
   "attachments": {},
   "cell_type": "markdown",
   "metadata": {},
   "source": [
    "# Skull Segmentation\n",
    "\n",
    "Perform segmentation from a Nifti file of head CT scan.\n",
    "\n",
    "[![Open in Colab](https://colab.research.google.com/assets/colab-badge.svg)](https://colab.research.google.com/github/biodatlab/autoimplantpipe/blob/master/notebooks/01_autosegmentation.ipynb)"
   ]
  },
  {
   "cell_type": "code",
   "execution_count": null,
   "metadata": {},
   "outputs": [],
   "source": [
    "from autoimplantpipe import load_segmentation_model, predict_skull_segmentation"
   ]
  },
  {
   "cell_type": "code",
   "execution_count": null,
   "metadata": {},
   "outputs": [],
   "source": [
    "# Load segmentation model\n",
    "model_path = \"Unet_segmentation.pth\"  # model path\n",
    "segmentation_model = load_segmentation_model(model_path)  # load model\n",
    "segmentation_model.eval()"
   ]
  },
  {
   "cell_type": "code",
   "execution_count": null,
   "metadata": {},
   "outputs": [],
   "source": [
    "# define input path to predict and perform segmentation\n",
    "prediction_path = \"id_ct.nii\"\n",
    "segmentation_path = predict_skull_segmentation(\n",
    "    prediction_path=prediction_path,\n",
    "    segmentation_model=segmentation_model,\n",
    "    output_dir=\"out_seg\",\n",
    ")  # return output path to segmentation nifti"
   ]
  }
 ],
 "metadata": {
  "kernelspec": {
   "display_name": "meticuly",
   "language": "python",
   "name": "python3"
  },
  "language_info": {
   "codemirror_mode": {
    "name": "ipython",
    "version": 3
   },
   "file_extension": ".py",
   "mimetype": "text/x-python",
   "name": "python",
   "nbconvert_exporter": "python",
   "pygments_lexer": "ipython3",
   "version": "3.9.7"
  },
  "vscode": {
   "interpreter": {
    "hash": "43b1d8cf56f9245a79d1d20c426f28b772ba2561869fa296bddaae0e65e56714"
   }
  }
 },
 "nbformat": 4,
 "nbformat_minor": 2
}

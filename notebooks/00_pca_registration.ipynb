{
  "nbformat": 4,
  "nbformat_minor": 0,
  "metadata": {
    "colab": {
      "provenance": []
    },
    "kernelspec": {
      "name": "python3",
      "display_name": "Python 3"
    },
    "language_info": {
      "name": "python"
    }
  },
  "cells": [
    {
      "cell_type": "markdown",
      "source": [
        "# PCA\n",
        "Perform registration based on principal component analysis\n",
        "\n",
        "[![Open in Colab](https://colab.research.google.com/assets/colab-badge.svg)](https://colab.research.google.com/github/biodatlab/autoimplantpipe/blob/master/notebooks/00_pca_registration.ipynb)"
      ],
      "metadata": {
        "id": "_73nXeamTxMz"
      }
    },
    {
      "cell_type": "code",
      "source": [
        "import os\n",
        "import shutil\n",
        "import ants\n",
        "import numpy as np\n",
        "from datetime import datetime\n",
        "from pathlib import Path\n",
        "from sklearn.decomposition import PCA"
      ],
      "metadata": {
        "id": "m_CLeQ5nUcnE"
      },
      "execution_count": null,
      "outputs": []
    },
    {
      "cell_type": "code",
      "source": [
        "np.seterr(invalid=\"ignore\")"
      ],
      "metadata": {
        "id": "x3sIePLUTf7S"
      },
      "execution_count": null,
      "outputs": []
    },
    {
      "cell_type": "code",
      "source": [
        "# Load skulls\n",
        "fixed = ants.image_read(\"skull_template.nii\").astype(\"uint8\")\n",
        "moving = ants.image_read(\"skull_defect.nii\").astype(\"uint8\")"
      ],
      "metadata": {
        "id": "YkRc7YywTiUQ"
      },
      "execution_count": null,
      "outputs": []
    },
    {
      "cell_type": "code",
      "source": [
        "# Perform SyN registration\n",
        "results = ants.registration(fixed, moving, type_of_transform=\"SyN\", syn_sampling=8)"
      ],
      "metadata": {
        "id": "XAapLQ5gTbJ3"
      },
      "execution_count": null,
      "outputs": []
    },
    {
      "cell_type": "code",
      "source": [
        "# Save data for reverse transforms\n",
        "for mat in results[\"fwdtransforms\"]:\n",
        "    if mat[-1] == \"z\":\n",
        "        shutil.move(mat, \"skull_defect_1Warp.nii\")\n",
        "    else:\n",
        "        shutil.move(mat, \"skull_defect_affine.mat\")\n",
        "\n",
        "# Save warped skull\n",
        "ants.image_write(results[\"warpedmovout\"].astype(\"uint8\"), \"skull_defect_registered.nii\")"
      ],
      "metadata": {
        "id": "13p3xZZQTdoV"
      },
      "execution_count": null,
      "outputs": []
    }
  ]
}
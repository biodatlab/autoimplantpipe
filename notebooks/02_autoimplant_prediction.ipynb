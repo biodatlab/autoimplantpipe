{
 "cells": [
  {
   "attachments": {},
   "cell_type": "markdown",
   "metadata": {},
   "source": [
    "# Autoimplant\n",
    "\n",
    "Perform autoimplant from a segmented skull file in a Nifti format.\n",
    "\n",
    "[![Open in Colab](https://colab.research.google.com/assets/colab-badge.svg)](https://colab.research.google.com/github/biodatlab/autoimplantpipe/blob/master/notebooks/02_autoimplant_prediction.ipynb)"
   ]
  },
  {
   "cell_type": "code",
   "execution_count": null,
   "metadata": {
    "tags": []
   },
   "outputs": [],
   "source": [
    "import os\n",
    "import os.path as op\n",
    "import nibabel as nib\n",
    "from pathlib import Path\n",
    "from itkwidgets import view\n",
    "from autoimplantpipe import (\n",
    "    load_autoimplant_model,\n",
    "    predict_autoimplant,\n",
    "    save_prediction_array_to_nifti,\n",
    "    convert_nifti_to_stl,\n",
    ")"
   ]
  },
  {
   "cell_type": "code",
   "execution_count": null,
   "metadata": {},
   "outputs": [],
   "source": [
    "# Define model\n",
    "model_path = \"3DUNetCNN_SkullBreak+in-house.pth\"\n",
    "autoimplant_model = load_autoimplant_model(model_path)\n",
    "autoimplant_model.eval()"
   ]
  },
  {
   "cell_type": "code",
   "execution_count": null,
   "metadata": {},
   "outputs": [],
   "source": [
    "# Define .nii file to predict and output folder\n",
    "defective_path = \"skullbreak_parietotemporal_001.nii\"\n",
    "parent_path = \"out_autoimplant\"\n",
    "\n",
    "if not op.exists(parent_path):\n",
    "    os.makedirs(parent_path, exist_ok=True)\n",
    "\n",
    "output_path = op.join(\n",
    "    parent_path, op.splitext(Path(defective_path).stem)[0] + \"_autoimplant.nii\"\n",
    ")\n",
    "stl_skull_path = op.join(\n",
    "    parent_path, op.splitext(Path(defective_path).stem)[0] + \"_autoimplant_skull.stl\"\n",
    ")\n",
    "stl_implant_path = op.join(\n",
    "    parent_path, op.splitext(Path(defective_path).stem)[0] + \"_autoimplant_implant.stl\"\n",
    ")"
   ]
  },
  {
   "cell_type": "code",
   "execution_count": null,
   "metadata": {},
   "outputs": [],
   "source": [
    "test_file = {\"image\": defective_path, \"label\": defective_path}\n",
    "prediction_output = predict_autoimplant(test_file, autoimplant_model)"
   ]
  },
  {
   "cell_type": "code",
   "execution_count": null,
   "metadata": {},
   "outputs": [],
   "source": [
    "save_prediction_array_to_nifti(prediction_output, defective_path, output_path)\n",
    "convert_nifti_to_stl(output_path, stl_skull_path, label=1)\n",
    "convert_nifti_to_stl(output_path, stl_implant_path, label=2)"
   ]
  },
  {
   "cell_type": "markdown",
   "metadata": {},
   "source": [
    "### Preview Prediction"
   ]
  },
  {
   "cell_type": "code",
   "execution_count": null,
   "metadata": {},
   "outputs": [],
   "source": [
    "img_output = nib.load(output_path)  # read prediction .nii file\n",
    "img_output = img_output.get_fdata()\n",
    "view(img_output)"
   ]
  }
 ],
 "metadata": {
  "kernelspec": {
   "display_name": "meticuly",
   "language": "python",
   "name": "python3"
  },
  "language_info": {
   "codemirror_mode": {
    "name": "ipython",
    "version": 3
   },
   "file_extension": ".py",
   "mimetype": "text/x-python",
   "name": "python",
   "nbconvert_exporter": "python",
   "pygments_lexer": "ipython3",
   "version": "3.9.7"
  },
  "vscode": {
   "interpreter": {
    "hash": "43b1d8cf56f9245a79d1d20c426f28b772ba2561869fa296bddaae0e65e56714"
   }
  }
 },
 "nbformat": 4,
 "nbformat_minor": 4
}
